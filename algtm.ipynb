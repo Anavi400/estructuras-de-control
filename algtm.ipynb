{
 "cells": [
  {
   "cell_type": "markdown",
   "metadata": {},
   "source": [
    "## Estructuras de control"
   ]
  },
  {
   "cell_type": "markdown",
   "metadata": {},
   "source": [
    "##### Operadores de comparacion \n",
    "- Mayor que >\n",
    "- Menor que <\n",
    "- Mayor igual >=\n",
    "- Menor igual <=\n",
    "- igual ==\n",
    "- diferente? == "
   ]
  },
  {
   "cell_type": "code",
   "execution_count": 2,
   "metadata": {},
   "outputs": [],
   "source": [
    "name = \"Pablo\" \n",
    "age = 16"
   ]
  },
  {
   "cell_type": "code",
   "execution_count": 3,
   "metadata": {},
   "outputs": [
    {
     "name": "stdout",
     "output_type": "stream",
     "text": [
      "puedes pasar\n"
     ]
    }
   ],
   "source": [
    "# if condicion:\n",
    "\n",
    "if (age > 15):\n",
    "    print(\"puedes pasar\")"
   ]
  },
  {
   "cell_type": "markdown",
   "metadata": {},
   "source": [
    "### Condicional simple"
   ]
  },
  {
   "cell_type": "code",
   "execution_count": null,
   "metadata": {},
   "outputs": [],
   "source": [
    "\n",
    "name1 = input(\"ingrese su nombre: \") \n",
    "age = input(\"ingrese su edad\")\n",
    "age = int(age) \n",
    "# age = float(age) \n",
    "\n",
    "if (age > 15):\n",
    "    print(\"puedes pasar\", name1)"
   ]
  },
  {
   "cell_type": "code",
   "execution_count": 6,
   "metadata": {},
   "outputs": [
    {
     "data": {
      "text/plain": [
       "int"
      ]
     },
     "execution_count": 6,
     "metadata": {},
     "output_type": "execute_result"
    }
   ],
   "source": [
    "type (name)\n",
    "type (age)"
   ]
  },
  {
   "cell_type": "markdown",
   "metadata": {},
   "source": [
    "### Operadores logicos\n",
    "- or\n",
    "- not \n",
    "- and"
   ]
  },
  {
   "cell_type": "code",
   "execution_count": null,
   "metadata": {},
   "outputs": [],
   "source": [
    "name1 = input(\"ingrese su nombre: \")\n",
    "age = int (input(\"ingrese su edad\"))\n",
    "  #age = int(age)\n",
    "day = input (\"ingrese el dia de la semana:\" )\n",
    "\n",
    "if (age > 15):\n",
    "    if day == \"sabado\": \n",
    "        print(\"puedes pasar\", name1)"
   ]
  },
  {
   "cell_type": "code",
   "execution_count": null,
   "metadata": {},
   "outputs": [],
   "source": [
    "# Otra forma de hacerlo:\n",
    "\n",
    "name1 = input(\"ingrese su nombre: \")\n",
    "age = int (input(\"ingrese su edad\"))\n",
    "#age = int(age)\n",
    "day = input (\"ingrese el dia de la semana:\" )\n",
    "\n",
    "if (age > 15) and (day == \"sabado\") :\n",
    "    print(\"puedes pasar\", name1)"
   ]
  },
  {
   "cell_type": "code",
   "execution_count": 7,
   "metadata": {},
   "outputs": [
    {
     "name": "stdout",
     "output_type": "stream",
     "text": [
      "puedes pasar ivana \n"
     ]
    }
   ],
   "source": [
    "# Condicional simple y operadores logicos\n",
    "name1 = input(\"ingrese su nombre: \")\n",
    "age = int (input(\"ingrese su edad\"))\n",
    "   #age = int(age)\n",
    "day = input (\"ingrese el dia de la semana:\")\n",
    "\n",
    "if (age > 15):\n",
    "    if (day == \"sabado\") or (day == \"viernes\"):\n",
    "        print(\"puedes pasar\", name1)"
   ]
  },
  {
   "cell_type": "code",
   "execution_count": null,
   "metadata": {},
   "outputs": [],
   "source": [
    "# Condicional completo\n",
    "\n",
    "name1 = input(\"ingrese su nombre: \")\n",
    "age = int (input(\"ingrese su edad\"))\n",
    "#age = int(age)\n",
    "\n",
    "if (age > 15):\n",
    "     print(\"puedes pasar\", name1)\n",
    "else:\n",
    "     print(\"fuera de aqui\", name1)     \n",
    "\n",
    "# if (day == \"sabado\") or (day == \"viernes\"):\n",
    "# print(\"puedes pasar\", name1)"
   ]
  }
 ],
 "metadata": {
  "kernelspec": {
   "display_name": ".venv",
   "language": "python",
   "name": "python3"
  },
  "language_info": {
   "codemirror_mode": {
    "name": "ipython",
    "version": 3
   },
   "file_extension": ".py",
   "mimetype": "text/x-python",
   "name": "python",
   "nbconvert_exporter": "python",
   "pygments_lexer": "ipython3",
   "version": "3.12.5"
  }
 },
 "nbformat": 4,
 "nbformat_minor": 2
}
